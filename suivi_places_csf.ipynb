{
 "cells": [
  {
   "cell_type": "code",
   "execution_count": 184,
   "metadata": {},
   "outputs": [],
   "source": [
    "import pandas as pd\n",
    "import numpy as np\n",
    "import sys\n",
    "\n",
    "from typing import List\n",
    "from pandas import DataFrame\n",
    "from pathlib import Path\n",
    "import string"
   ]
  },
  {
   "cell_type": "code",
   "execution_count": 185,
   "metadata": {},
   "outputs": [
    {
     "data": {
      "text/plain": [
       "'C:\\\\Users\\\\rhoBB\\\\Anaconda3\\\\python.exe'"
      ]
     },
     "execution_count": 185,
     "metadata": {},
     "output_type": "execute_result"
    }
   ],
   "source": [
    "sys.executable"
   ]
  },
  {
   "cell_type": "code",
   "execution_count": 186,
   "metadata": {},
   "outputs": [],
   "source": [
    "from enum import Enum"
   ]
  },
  {
   "cell_type": "code",
   "execution_count": 187,
   "metadata": {},
   "outputs": [],
   "source": [
    "class CategoriePrevente(Enum):\n",
    "    \n",
    "    NORMALE__PREVENTE = (\"normale\", \"en pré-vente\", 20)\n",
    "    NORMALE__SUR_PLACE = (\"normale\", \"sur place\", 25)\n",
    "    ETUDIANT__PREVENTE = (\"étudiant\", \"en pré-vente\", 10)\n",
    "    ETUDIANT__SUR_PLACE = (\"étudiant\", \"sur place\", 15)\n",
    "    \n",
    "    def __init__(\n",
    "        self, \n",
    "        categorie_name,\n",
    "        sale_place_name,\n",
    "        sale_price, \n",
    "    ):\n",
    "        self.categorie_name = categorie_name\n",
    "        self.sale_place_name = sale_place_name\n",
    "        self.sale_price = sale_price\n",
    "    \n",
    "    \n",
    "    def __repr__(self):\n",
    "        phr = f\"Catégorie {self.categorie_name}, vendu {self.sale_place_name} --> tarif = {self.sale_price} €\"\n",
    "        return phr"
   ]
  },
  {
   "cell_type": "code",
   "execution_count": 188,
   "metadata": {},
   "outputs": [
    {
     "name": "stdout",
     "output_type": "stream",
     "text": [
      "CategoriePrevente.NORMALE__PREVENTE\n",
      "CategoriePrevente.NORMALE__SUR_PLACE\n",
      "CategoriePrevente.ETUDIANT__PREVENTE\n",
      "CategoriePrevente.ETUDIANT__SUR_PLACE\n"
     ]
    }
   ],
   "source": [
    "for elem in CategoriePrevente:\n",
    "    print(elem)"
   ]
  },
  {
   "cell_type": "code",
   "execution_count": 189,
   "metadata": {},
   "outputs": [
    {
     "data": {
      "text/plain": [
       "Catégorie normale, vendu en pré-vente --> tarif = 20 €"
      ]
     },
     "execution_count": 189,
     "metadata": {},
     "output_type": "execute_result"
    }
   ],
   "source": [
    "j = CategoriePrevente.NORMALE__PREVENTE\n",
    "j"
   ]
  },
  {
   "cell_type": "code",
   "execution_count": 190,
   "metadata": {},
   "outputs": [],
   "source": [
    "class Concert(Enum):\n",
    "    VENDREDI = (17, \"20h30\", \"Eglise Luthérienne Saint-Marcel\", \"24 Rue Pierre Nicole, 75.005 Paris\")\n",
    "    SAMEDI = (18, \"20h30\", \"Eglise Saint-Louis-en-l’île\", \"19 Rue Saint-Louis-en-l’île, 75.004 Paris\")\n",
    "    DIMANCHE = (19, \"18h00\", \"Eglise Saint-Louis-en-l’île\", \"19 Rue Saint-Louis-en-l’île, 75.004 Paris\")\n",
    "    \n",
    "    def __init__(\n",
    "        self,\n",
    "        concert_day_number,\n",
    "        concert_start_hour,\n",
    "        concert_place,\n",
    "        concert_place_address\n",
    "    ):\n",
    "        self.concert_day_number = concert_day_number\n",
    "        self.concert_day = f\"{self.name.title()} {self.concert_day_number} Juin 2022\"\n",
    "        self.concert_start_hour = concert_start_hour\n",
    "        self.concert_time_info = f\"{self.concert_day}, à {self.concert_start_hour}\"\n",
    "        self.concert_place = concert_place\n",
    "        self.concert_place_address = concert_place_address\n",
    "        self.concert_address = f\"{self.concert_place} : {self.concert_place_address}\"\n",
    "    \n",
    "    \n",
    "    def __repr__(self):\n",
    "        phr = f\"Concert du {self.concert_day}\\n{'heure':<6} : {self.concert_start_hour}\\n{'Lieu':<6} : {self.concert_address}\"\n",
    "        return phr"
   ]
  },
  {
   "cell_type": "code",
   "execution_count": 191,
   "metadata": {},
   "outputs": [
    {
     "name": "stdout",
     "output_type": "stream",
     "text": [
      "Concert.VENDREDI\n",
      "Concert.SAMEDI\n",
      "Concert.DIMANCHE\n"
     ]
    }
   ],
   "source": [
    "for elem in Concert:\n",
    "    print(elem)"
   ]
  },
  {
   "cell_type": "code",
   "execution_count": 192,
   "metadata": {},
   "outputs": [
    {
     "data": {
      "text/plain": [
       "Concert du Vendredi 17 Juin 2022\n",
       "heure  : 20h30\n",
       "Lieu   : Eglise Luthérienne Saint-Marcel : 24 Rue Pierre Nicole, 75.005 Paris"
      ]
     },
     "execution_count": 192,
     "metadata": {},
     "output_type": "execute_result"
    }
   ],
   "source": [
    "Concert.VENDREDI"
   ]
  },
  {
   "cell_type": "code",
   "execution_count": 193,
   "metadata": {},
   "outputs": [],
   "source": [
    "class PersonneVenantAuConcert(object):\n",
    "    \n",
    "    def __init__(\n",
    "        self,\n",
    "        nom: str,\n",
    "        categorie_prevente: CategoriePrevente,\n",
    "        concert: Concert,\n",
    "        nombre_places: int,\n",
    "        need_enveloppe: bool,\n",
    "        deja_regle: bool,\n",
    "    ):\n",
    "        self.nom = nom\n",
    "        self.categorie_prevente = categorie_prevente\n",
    "        self.concert = concert\n",
    "        self.nombre_places = nombre_places\n",
    "        self.need_enveloppe = need_enveloppe\n",
    "        self.deja_regle = deja_regle\n",
    "        self.total_price = self.nombre_places * self.categorie_prevente.sale_price\n",
    "        self.dict_bool_french = {True: \"OUI\", False: \"NON\"}\n",
    "     \n",
    "    \n",
    "        \n",
    "    def _to_dataframe(self):\n",
    "        data = {\n",
    "            \"prenom_NOM\": self.nom,\n",
    "            \"nombre_places\": self.nombre_places,\n",
    "            \"date_concert\": self.concert.concert_day,\n",
    "            \"heure_concert\": self.concert.concert_start_hour,\n",
    "            \"lieu_concert\": self.concert.concert_place,\n",
    "            \"adresse_concert\": self.concert.concert_place_address,\n",
    "            \"faire_enveloppe\": self.dict_bool_french[self.need_enveloppe],\n",
    "            \"prix_total_a_payer\": self.total_price,\n",
    "            \"deja_regle_a_moi\": self.dict_bool_french[self.deja_regle],\n",
    "        }\n",
    "        data = {k: [v] for k, v in data.items()}\n",
    "        df = pd.DataFrame(data)\n",
    "        df.set_index(\"prenom_NOM\", inplace=True)\n",
    "        return df"
   ]
  },
  {
   "cell_type": "code",
   "execution_count": 194,
   "metadata": {},
   "outputs": [],
   "source": [
    "monyrath = PersonneVenantAuConcert(\n",
    "    nom=\"Monyrâth ENGLY\",\n",
    "    categorie_prevente=CategoriePrevente.NORMALE__PREVENTE,\n",
    "    concert=Concert.SAMEDI,\n",
    "    nombre_places=2,\n",
    "    need_enveloppe=True,\n",
    "    deja_regle=False,\n",
    ")\n",
    "\n",
    "joanne = PersonneVenantAuConcert(\n",
    "    nom=\"Joanne BREITFELDER\",\n",
    "    categorie_prevente=CategoriePrevente.NORMALE__PREVENTE,\n",
    "    concert=Concert.SAMEDI,\n",
    "    nombre_places=2,\n",
    "    need_enveloppe=True,\n",
    "    deja_regle=False,\n",
    ")\n",
    "\n",
    "marco = PersonneVenantAuConcert(\n",
    "    nom=\"Marco CORSO\",\n",
    "    categorie_prevente=CategoriePrevente.NORMALE__PREVENTE,\n",
    "    concert=Concert.SAMEDI,\n",
    "    nombre_places=2,\n",
    "    need_enveloppe=True,\n",
    "    deja_regle=True,\n",
    ")\n",
    "\n",
    "thomas = PersonneVenantAuConcert(\n",
    "    nom=\"Thomas HEZARD\",\n",
    "    categorie_prevente=CategoriePrevente.NORMALE__PREVENTE,\n",
    "    concert=Concert.VENDREDI,\n",
    "    nombre_places=1,\n",
    "    need_enveloppe=False,\n",
    "    deja_regle=True,\n",
    ")"
   ]
  },
  {
   "cell_type": "code",
   "execution_count": 195,
   "metadata": {},
   "outputs": [
    {
     "data": {
      "text/html": [
       "<div>\n",
       "<style scoped>\n",
       "    .dataframe tbody tr th:only-of-type {\n",
       "        vertical-align: middle;\n",
       "    }\n",
       "\n",
       "    .dataframe tbody tr th {\n",
       "        vertical-align: top;\n",
       "    }\n",
       "\n",
       "    .dataframe thead th {\n",
       "        text-align: right;\n",
       "    }\n",
       "</style>\n",
       "<table border=\"1\" class=\"dataframe\">\n",
       "  <thead>\n",
       "    <tr style=\"text-align: right;\">\n",
       "      <th></th>\n",
       "      <th>nombre_places</th>\n",
       "      <th>date_concert</th>\n",
       "      <th>heure_concert</th>\n",
       "      <th>lieu_concert</th>\n",
       "      <th>adresse_concert</th>\n",
       "      <th>faire_enveloppe</th>\n",
       "      <th>prix_total_a_payer</th>\n",
       "      <th>deja_regle_a_moi</th>\n",
       "    </tr>\n",
       "    <tr>\n",
       "      <th>prenom_NOM</th>\n",
       "      <th></th>\n",
       "      <th></th>\n",
       "      <th></th>\n",
       "      <th></th>\n",
       "      <th></th>\n",
       "      <th></th>\n",
       "      <th></th>\n",
       "      <th></th>\n",
       "    </tr>\n",
       "  </thead>\n",
       "  <tbody>\n",
       "    <tr>\n",
       "      <th>Monyrâth ENGLY</th>\n",
       "      <td>2</td>\n",
       "      <td>Samedi 18 Juin 2022</td>\n",
       "      <td>20h30</td>\n",
       "      <td>Eglise Saint-Louis-en-l’île</td>\n",
       "      <td>19 Rue Saint-Louis-en-l’île, 75.004 Paris</td>\n",
       "      <td>OUI</td>\n",
       "      <td>40</td>\n",
       "      <td>NON</td>\n",
       "    </tr>\n",
       "  </tbody>\n",
       "</table>\n",
       "</div>"
      ],
      "text/plain": [
       "                nombre_places         date_concert heure_concert  \\\n",
       "prenom_NOM                                                         \n",
       "Monyrâth ENGLY              2  Samedi 18 Juin 2022         20h30   \n",
       "\n",
       "                               lieu_concert  \\\n",
       "prenom_NOM                                    \n",
       "Monyrâth ENGLY  Eglise Saint-Louis-en-l’île   \n",
       "\n",
       "                                          adresse_concert faire_enveloppe  \\\n",
       "prenom_NOM                                                                  \n",
       "Monyrâth ENGLY  19 Rue Saint-Louis-en-l’île, 75.004 Paris             OUI   \n",
       "\n",
       "                prix_total_a_payer deja_regle_a_moi  \n",
       "prenom_NOM                                           \n",
       "Monyrâth ENGLY                  40              NON  "
      ]
     },
     "execution_count": 195,
     "metadata": {},
     "output_type": "execute_result"
    }
   ],
   "source": [
    "monyrath._to_dataframe()"
   ]
  },
  {
   "cell_type": "code",
   "execution_count": 196,
   "metadata": {},
   "outputs": [
    {
     "data": {
      "text/html": [
       "<div>\n",
       "<style scoped>\n",
       "    .dataframe tbody tr th:only-of-type {\n",
       "        vertical-align: middle;\n",
       "    }\n",
       "\n",
       "    .dataframe tbody tr th {\n",
       "        vertical-align: top;\n",
       "    }\n",
       "\n",
       "    .dataframe thead th {\n",
       "        text-align: right;\n",
       "    }\n",
       "</style>\n",
       "<table border=\"1\" class=\"dataframe\">\n",
       "  <thead>\n",
       "    <tr style=\"text-align: right;\">\n",
       "      <th></th>\n",
       "      <th>nombre_places</th>\n",
       "      <th>date_concert</th>\n",
       "      <th>heure_concert</th>\n",
       "      <th>lieu_concert</th>\n",
       "      <th>adresse_concert</th>\n",
       "      <th>faire_enveloppe</th>\n",
       "      <th>prix_total_a_payer</th>\n",
       "      <th>deja_regle_a_moi</th>\n",
       "    </tr>\n",
       "    <tr>\n",
       "      <th>prenom_NOM</th>\n",
       "      <th></th>\n",
       "      <th></th>\n",
       "      <th></th>\n",
       "      <th></th>\n",
       "      <th></th>\n",
       "      <th></th>\n",
       "      <th></th>\n",
       "      <th></th>\n",
       "    </tr>\n",
       "  </thead>\n",
       "  <tbody>\n",
       "    <tr>\n",
       "      <th>Joanne BREITFELDER</th>\n",
       "      <td>2</td>\n",
       "      <td>Samedi 18 Juin 2022</td>\n",
       "      <td>20h30</td>\n",
       "      <td>Eglise Saint-Louis-en-l’île</td>\n",
       "      <td>19 Rue Saint-Louis-en-l’île, 75.004 Paris</td>\n",
       "      <td>OUI</td>\n",
       "      <td>40</td>\n",
       "      <td>NON</td>\n",
       "    </tr>\n",
       "  </tbody>\n",
       "</table>\n",
       "</div>"
      ],
      "text/plain": [
       "                    nombre_places         date_concert heure_concert  \\\n",
       "prenom_NOM                                                             \n",
       "Joanne BREITFELDER              2  Samedi 18 Juin 2022         20h30   \n",
       "\n",
       "                                   lieu_concert  \\\n",
       "prenom_NOM                                        \n",
       "Joanne BREITFELDER  Eglise Saint-Louis-en-l’île   \n",
       "\n",
       "                                              adresse_concert faire_enveloppe  \\\n",
       "prenom_NOM                                                                      \n",
       "Joanne BREITFELDER  19 Rue Saint-Louis-en-l’île, 75.004 Paris             OUI   \n",
       "\n",
       "                    prix_total_a_payer deja_regle_a_moi  \n",
       "prenom_NOM                                               \n",
       "Joanne BREITFELDER                  40              NON  "
      ]
     },
     "execution_count": 196,
     "metadata": {},
     "output_type": "execute_result"
    }
   ],
   "source": [
    "joanne._to_dataframe()"
   ]
  },
  {
   "cell_type": "code",
   "execution_count": null,
   "metadata": {},
   "outputs": [],
   "source": []
  },
  {
   "cell_type": "code",
   "execution_count": 197,
   "metadata": {},
   "outputs": [],
   "source": [
    "def build_excel(\n",
    "    guest_list: List[PersonneVenantAuConcert],\n",
    "    file_name = \"\"\n",
    "):\n",
    "    dataframe_list = [p._to_dataframe() for p in guest_list]\n",
    "    return pd.concat(dataframe_list)"
   ]
  },
  {
   "cell_type": "code",
   "execution_count": 198,
   "metadata": {},
   "outputs": [],
   "source": [
    "df = build_excel([\n",
    "    monyrath,\n",
    "    joanne,\n",
    "    marco,\n",
    "    thomas,\n",
    "])"
   ]
  },
  {
   "cell_type": "code",
   "execution_count": 199,
   "metadata": {},
   "outputs": [
    {
     "data": {
      "text/html": [
       "<div>\n",
       "<style scoped>\n",
       "    .dataframe tbody tr th:only-of-type {\n",
       "        vertical-align: middle;\n",
       "    }\n",
       "\n",
       "    .dataframe tbody tr th {\n",
       "        vertical-align: top;\n",
       "    }\n",
       "\n",
       "    .dataframe thead th {\n",
       "        text-align: right;\n",
       "    }\n",
       "</style>\n",
       "<table border=\"1\" class=\"dataframe\">\n",
       "  <thead>\n",
       "    <tr style=\"text-align: right;\">\n",
       "      <th></th>\n",
       "      <th>nombre_places</th>\n",
       "      <th>date_concert</th>\n",
       "      <th>heure_concert</th>\n",
       "      <th>lieu_concert</th>\n",
       "      <th>adresse_concert</th>\n",
       "      <th>faire_enveloppe</th>\n",
       "      <th>prix_total_a_payer</th>\n",
       "      <th>deja_regle_a_moi</th>\n",
       "    </tr>\n",
       "    <tr>\n",
       "      <th>prenom_NOM</th>\n",
       "      <th></th>\n",
       "      <th></th>\n",
       "      <th></th>\n",
       "      <th></th>\n",
       "      <th></th>\n",
       "      <th></th>\n",
       "      <th></th>\n",
       "      <th></th>\n",
       "    </tr>\n",
       "  </thead>\n",
       "  <tbody>\n",
       "    <tr>\n",
       "      <th>Monyrâth ENGLY</th>\n",
       "      <td>2</td>\n",
       "      <td>Samedi 18 Juin 2022</td>\n",
       "      <td>20h30</td>\n",
       "      <td>Eglise Saint-Louis-en-l’île</td>\n",
       "      <td>19 Rue Saint-Louis-en-l’île, 75.004 Paris</td>\n",
       "      <td>OUI</td>\n",
       "      <td>40</td>\n",
       "      <td>NON</td>\n",
       "    </tr>\n",
       "    <tr>\n",
       "      <th>Joanne BREITFELDER</th>\n",
       "      <td>2</td>\n",
       "      <td>Samedi 18 Juin 2022</td>\n",
       "      <td>20h30</td>\n",
       "      <td>Eglise Saint-Louis-en-l’île</td>\n",
       "      <td>19 Rue Saint-Louis-en-l’île, 75.004 Paris</td>\n",
       "      <td>OUI</td>\n",
       "      <td>40</td>\n",
       "      <td>NON</td>\n",
       "    </tr>\n",
       "    <tr>\n",
       "      <th>Marco CORSO</th>\n",
       "      <td>2</td>\n",
       "      <td>Samedi 18 Juin 2022</td>\n",
       "      <td>20h30</td>\n",
       "      <td>Eglise Saint-Louis-en-l’île</td>\n",
       "      <td>19 Rue Saint-Louis-en-l’île, 75.004 Paris</td>\n",
       "      <td>OUI</td>\n",
       "      <td>40</td>\n",
       "      <td>OUI</td>\n",
       "    </tr>\n",
       "    <tr>\n",
       "      <th>Thomas HEZARD</th>\n",
       "      <td>1</td>\n",
       "      <td>Vendredi 17 Juin 2022</td>\n",
       "      <td>20h30</td>\n",
       "      <td>Eglise Luthérienne Saint-Marcel</td>\n",
       "      <td>24 Rue Pierre Nicole, 75.005 Paris</td>\n",
       "      <td>NON</td>\n",
       "      <td>20</td>\n",
       "      <td>OUI</td>\n",
       "    </tr>\n",
       "  </tbody>\n",
       "</table>\n",
       "</div>"
      ],
      "text/plain": [
       "                    nombre_places           date_concert heure_concert  \\\n",
       "prenom_NOM                                                               \n",
       "Monyrâth ENGLY                  2    Samedi 18 Juin 2022         20h30   \n",
       "Joanne BREITFELDER              2    Samedi 18 Juin 2022         20h30   \n",
       "Marco CORSO                     2    Samedi 18 Juin 2022         20h30   \n",
       "Thomas HEZARD                   1  Vendredi 17 Juin 2022         20h30   \n",
       "\n",
       "                                       lieu_concert  \\\n",
       "prenom_NOM                                            \n",
       "Monyrâth ENGLY          Eglise Saint-Louis-en-l’île   \n",
       "Joanne BREITFELDER      Eglise Saint-Louis-en-l’île   \n",
       "Marco CORSO             Eglise Saint-Louis-en-l’île   \n",
       "Thomas HEZARD       Eglise Luthérienne Saint-Marcel   \n",
       "\n",
       "                                              adresse_concert faire_enveloppe  \\\n",
       "prenom_NOM                                                                      \n",
       "Monyrâth ENGLY      19 Rue Saint-Louis-en-l’île, 75.004 Paris             OUI   \n",
       "Joanne BREITFELDER  19 Rue Saint-Louis-en-l’île, 75.004 Paris             OUI   \n",
       "Marco CORSO         19 Rue Saint-Louis-en-l’île, 75.004 Paris             OUI   \n",
       "Thomas HEZARD              24 Rue Pierre Nicole, 75.005 Paris             NON   \n",
       "\n",
       "                    prix_total_a_payer deja_regle_a_moi  \n",
       "prenom_NOM                                               \n",
       "Monyrâth ENGLY                      40              NON  \n",
       "Joanne BREITFELDER                  40              NON  \n",
       "Marco CORSO                         40              OUI  \n",
       "Thomas HEZARD                       20              OUI  "
      ]
     },
     "execution_count": 199,
     "metadata": {},
     "output_type": "execute_result"
    }
   ],
   "source": [
    "df"
   ]
  },
  {
   "cell_type": "code",
   "execution_count": 200,
   "metadata": {},
   "outputs": [],
   "source": [
    "filename = \"Francois_CHANEL_places_concerts_CSF_Juin_2022.xlsx\"\n",
    "sheetname = \"resume\""
   ]
  },
  {
   "cell_type": "code",
   "execution_count": 201,
   "metadata": {},
   "outputs": [],
   "source": [
    "writer = pd.ExcelWriter(filename, engine='xlsxwriter')"
   ]
  },
  {
   "cell_type": "code",
   "execution_count": 202,
   "metadata": {},
   "outputs": [],
   "source": [
    "number_columns = len(df.columns)+1"
   ]
  },
  {
   "cell_type": "code",
   "execution_count": 203,
   "metadata": {},
   "outputs": [],
   "source": [
    "number_rows = len(df.index)"
   ]
  },
  {
   "cell_type": "code",
   "execution_count": 204,
   "metadata": {},
   "outputs": [],
   "source": [
    "last_letter_used = string.ascii_uppercase[number_columns-1]"
   ]
  },
  {
   "cell_type": "code",
   "execution_count": 205,
   "metadata": {},
   "outputs": [
    {
     "data": {
      "text/plain": [
       "'I'"
      ]
     },
     "execution_count": 205,
     "metadata": {},
     "output_type": "execute_result"
    }
   ],
   "source": [
    "last_letter_used"
   ]
  },
  {
   "cell_type": "code",
   "execution_count": 206,
   "metadata": {},
   "outputs": [],
   "source": [
    "col_name_to_letter = {df.index.name:'A'}\n",
    "col_name_to_letter.update({\n",
    "    col_name: letter\n",
    "    for col_name, letter in zip(\n",
    "        df.columns,\n",
    "        string.ascii_uppercase[1:]\n",
    "    )\n",
    "})"
   ]
  },
  {
   "cell_type": "code",
   "execution_count": 207,
   "metadata": {},
   "outputs": [
    {
     "data": {
      "text/plain": [
       "{'prenom_NOM': 'A',\n",
       " 'nombre_places': 'B',\n",
       " 'date_concert': 'C',\n",
       " 'heure_concert': 'D',\n",
       " 'lieu_concert': 'E',\n",
       " 'adresse_concert': 'F',\n",
       " 'faire_enveloppe': 'G',\n",
       " 'prix_total_a_payer': 'H',\n",
       " 'deja_regle_a_moi': 'I'}"
      ]
     },
     "execution_count": 207,
     "metadata": {},
     "output_type": "execute_result"
    }
   ],
   "source": [
    "col_name_to_letter"
   ]
  },
  {
   "cell_type": "code",
   "execution_count": 208,
   "metadata": {},
   "outputs": [],
   "source": [
    "all_cells_until_price = f\"$A$1:${col_name_to_letter['faire_enveloppe']}${number_rows}\""
   ]
  },
  {
   "cell_type": "code",
   "execution_count": 209,
   "metadata": {},
   "outputs": [
    {
     "data": {
      "text/plain": [
       "'$A$1:$G$4'"
      ]
     },
     "execution_count": 209,
     "metadata": {},
     "output_type": "execute_result"
    }
   ],
   "source": [
    "all_cells_until_price"
   ]
  },
  {
   "cell_type": "code",
   "execution_count": 210,
   "metadata": {},
   "outputs": [],
   "source": [
    "cells_from_price_to_end = f\"${col_name_to_letter['prix_total_a_payer']}$1:${last_letter_used}${number_rows}\""
   ]
  },
  {
   "cell_type": "code",
   "execution_count": 211,
   "metadata": {},
   "outputs": [],
   "source": [
    "bool_to_french = {True: \"VRAI\", \"False\": \"FAUX\"}"
   ]
  },
  {
   "cell_type": "code",
   "execution_count": 212,
   "metadata": {},
   "outputs": [],
   "source": [
    "criteria_need_enveloppe = f'=INDIRECT(\"{col_name_to_letter[\"faire_enveloppe\"]}\"&ROW())=\"OUI\"'"
   ]
  },
  {
   "cell_type": "code",
   "execution_count": 213,
   "metadata": {},
   "outputs": [
    {
     "data": {
      "text/plain": [
       "'=INDIRECT(\"G\"&ROW())=\"OUI\"'"
      ]
     },
     "execution_count": 213,
     "metadata": {},
     "output_type": "execute_result"
    }
   ],
   "source": [
    "criteria_need_enveloppe"
   ]
  },
  {
   "cell_type": "code",
   "execution_count": 214,
   "metadata": {},
   "outputs": [],
   "source": [
    "criteria_not_paid_yet = f'=INDIRECT(\"{col_name_to_letter[\"deja_regle_a_moi\"]}\"&ROW())=\"NON\"'"
   ]
  },
  {
   "cell_type": "code",
   "execution_count": 215,
   "metadata": {},
   "outputs": [],
   "source": [
    "df.to_excel(writer, sheet_name=sheetname)  # send df to writer\n",
    "worksheet = writer.sheets[sheetname]  # pull worksheet object\n",
    "for idx, col in enumerate(df):  # loop through all columns\n",
    "    series = df[col]\n",
    "    max_len = max((\n",
    "        series.astype(str).map(len).max(),  # len of largest item\n",
    "        len(str(series.name))  # len of column name/header\n",
    "        )) + 1  # adding a little extra space\n",
    "    # iterating over df cols but there is an index\n",
    "    worksheet.set_column(\n",
    "        first_col=idx+1, \n",
    "        last_col=idx+1, \n",
    "        width=max_len,\n",
    "    )  # set column width\n",
    "max_index_len = df.index.map(len).max()\n",
    "worksheet.set_column(0, 0, max_index_len +1)\n",
    "\n",
    "workbook  = writer.book\n",
    "format_need_enveloppe = workbook.add_format({\n",
    "    'bg_color': '#00FFFF',\n",
    "    'font_color': 'black',\n",
    "})\n",
    "format_not_paid_yet = workbook.add_format({\n",
    "    'bg_color': '#FFFF00',\n",
    "    'font_color': 'black',\n",
    "})\n",
    "worksheet.conditional_format(\n",
    "    all_cells_until_price,\n",
    "    options = {\n",
    "        \"type\": \"formula\",\n",
    "        \"criteria\": criteria_need_enveloppe,\n",
    "        \"format\": format_need_enveloppe\n",
    "    },\n",
    ")\n",
    "worksheet.conditional_format(\n",
    "    cells_from_price_to_end,\n",
    "    options = {\n",
    "        \"type\": \"formula\",\n",
    "        \"criteria\": criteria_not_paid_yet,\n",
    "        \"format\": format_not_paid_yet,\n",
    "    },\n",
    ")\n",
    "\n",
    "writer.save()"
   ]
  },
  {
   "cell_type": "code",
   "execution_count": null,
   "metadata": {},
   "outputs": [],
   "source": []
  },
  {
   "cell_type": "code",
   "execution_count": null,
   "metadata": {},
   "outputs": [],
   "source": []
  }
 ],
 "metadata": {
  "kernelspec": {
   "display_name": "Python 3",
   "language": "python",
   "name": "python3"
  },
  "language_info": {
   "codemirror_mode": {
    "name": "ipython",
    "version": 3
   },
   "file_extension": ".py",
   "mimetype": "text/x-python",
   "name": "python",
   "nbconvert_exporter": "python",
   "pygments_lexer": "ipython3",
   "version": "3.6.7"
  }
 },
 "nbformat": 4,
 "nbformat_minor": 2
}
